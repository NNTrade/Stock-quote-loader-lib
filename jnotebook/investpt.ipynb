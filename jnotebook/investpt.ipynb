{
 "cells": [
  {
   "cell_type": "code",
   "execution_count": 1,
   "metadata": {},
   "outputs": [],
   "source": [
    "import investpy\n",
    "import investiny"
   ]
  },
  {
   "cell_type": "markdown",
   "metadata": {},
   "source": [
    "# Investpy\n",
    "[Github](https://github.com/alvarobartt/investpy)"
   ]
  },
  {
   "cell_type": "code",
   "execution_count": 4,
   "metadata": {},
   "outputs": [
    {
     "ename": "ConnectionError",
     "evalue": "ERR#0015: error 403, try again later.",
     "output_type": "error",
     "traceback": [
      "\u001b[0;31m---------------------------------------------------------------------------\u001b[0m",
      "\u001b[0;31mConnectionError\u001b[0m                           Traceback (most recent call last)",
      "Cell \u001b[0;32mIn [4], line 1\u001b[0m\n\u001b[0;32m----> 1\u001b[0m investpy\u001b[39m.\u001b[39;49msearch_quotes(text\u001b[39m=\u001b[39;49m\u001b[39m'\u001b[39;49m\u001b[39mapple\u001b[39;49m\u001b[39m'\u001b[39;49m, products\u001b[39m=\u001b[39;49m[\u001b[39m'\u001b[39;49m\u001b[39mstocks\u001b[39;49m\u001b[39m'\u001b[39;49m],\n\u001b[1;32m      2\u001b[0m                                        countries\u001b[39m=\u001b[39;49m[\u001b[39m'\u001b[39;49m\u001b[39munited states\u001b[39;49m\u001b[39m'\u001b[39;49m], n_results\u001b[39m=\u001b[39;49m\u001b[39m1\u001b[39;49m)\n",
      "File \u001b[0;32m~/.local/lib/python3.11/site-packages/investpy/search.py:160\u001b[0m, in \u001b[0;36msearch_quotes\u001b[0;34m(text, products, countries, n_results)\u001b[0m\n\u001b[1;32m    157\u001b[0m req \u001b[39m=\u001b[39m requests\u001b[39m.\u001b[39mpost(url, headers\u001b[39m=\u001b[39mheaders, data\u001b[39m=\u001b[39mparams)\n\u001b[1;32m    159\u001b[0m \u001b[39mif\u001b[39;00m req\u001b[39m.\u001b[39mstatus_code \u001b[39m!=\u001b[39m \u001b[39m200\u001b[39m:\n\u001b[0;32m--> 160\u001b[0m     \u001b[39mraise\u001b[39;00m \u001b[39mConnectionError\u001b[39;00m(\n\u001b[1;32m    161\u001b[0m         \u001b[39mf\u001b[39m\u001b[39m\"\u001b[39m\u001b[39mERR#0015: error \u001b[39m\u001b[39m{\u001b[39;00mreq\u001b[39m.\u001b[39mstatus_code\u001b[39m}\u001b[39;00m\u001b[39m, try again later.\u001b[39m\u001b[39m\"\u001b[39m\n\u001b[1;32m    162\u001b[0m     )\n\u001b[1;32m    164\u001b[0m data \u001b[39m=\u001b[39m req\u001b[39m.\u001b[39mjson()\n\u001b[1;32m    166\u001b[0m \u001b[39mif\u001b[39;00m data[\u001b[39m\"\u001b[39m\u001b[39mtotal\u001b[39m\u001b[39m\"\u001b[39m][\u001b[39m\"\u001b[39m\u001b[39mquotes\u001b[39m\u001b[39m\"\u001b[39m] \u001b[39m==\u001b[39m \u001b[39m0\u001b[39m:\n",
      "\u001b[0;31mConnectionError\u001b[0m: ERR#0015: error 403, try again later."
     ]
    }
   ],
   "source": [
    "investpy.search_quotes(text='apple', products=['stocks'],\n",
    "                                       countries=['united states'], n_results=1)"
   ]
  },
  {
   "cell_type": "code",
   "execution_count": 5,
   "metadata": {},
   "outputs": [
    {
     "ename": "ConnectionError",
     "evalue": "ERR#0015: error 403, try again later.",
     "output_type": "error",
     "traceback": [
      "\u001b[0;31m---------------------------------------------------------------------------\u001b[0m",
      "\u001b[0;31mConnectionError\u001b[0m                           Traceback (most recent call last)",
      "Cell \u001b[0;32mIn [5], line 1\u001b[0m\n\u001b[0;32m----> 1\u001b[0m investpy\u001b[39m.\u001b[39;49mget_stock_historical_data(stock\u001b[39m=\u001b[39;49m\u001b[39m'\u001b[39;49m\u001b[39mAAPL\u001b[39;49m\u001b[39m'\u001b[39;49m,\n\u001b[1;32m      2\u001b[0m                                         country\u001b[39m=\u001b[39;49m\u001b[39m'\u001b[39;49m\u001b[39mUnited States\u001b[39;49m\u001b[39m'\u001b[39;49m,\n\u001b[1;32m      3\u001b[0m                                         from_date\u001b[39m=\u001b[39;49m\u001b[39m'\u001b[39;49m\u001b[39m01/01/2010\u001b[39;49m\u001b[39m'\u001b[39;49m,\n\u001b[1;32m      4\u001b[0m                                         to_date\u001b[39m=\u001b[39;49m\u001b[39m'\u001b[39;49m\u001b[39m01/01/2020\u001b[39;49m\u001b[39m'\u001b[39;49m)\n",
      "File \u001b[0;32m~/.local/lib/python3.11/site-packages/investpy/stocks.py:664\u001b[0m, in \u001b[0;36mget_stock_historical_data\u001b[0;34m(stock, country, from_date, to_date, as_json, order, interval)\u001b[0m\n\u001b[1;32m    661\u001b[0m req \u001b[39m=\u001b[39m requests\u001b[39m.\u001b[39mpost(url, headers\u001b[39m=\u001b[39mhead, data\u001b[39m=\u001b[39mparams)\n\u001b[1;32m    663\u001b[0m \u001b[39mif\u001b[39;00m req\u001b[39m.\u001b[39mstatus_code \u001b[39m!=\u001b[39m \u001b[39m200\u001b[39m:\n\u001b[0;32m--> 664\u001b[0m     \u001b[39mraise\u001b[39;00m \u001b[39mConnectionError\u001b[39;00m(\n\u001b[1;32m    665\u001b[0m         \u001b[39m\"\u001b[39m\u001b[39mERR#0015: error \u001b[39m\u001b[39m\"\u001b[39m \u001b[39m+\u001b[39m \u001b[39mstr\u001b[39m(req\u001b[39m.\u001b[39mstatus_code) \u001b[39m+\u001b[39m \u001b[39m\"\u001b[39m\u001b[39m, try again later.\u001b[39m\u001b[39m\"\u001b[39m\n\u001b[1;32m    666\u001b[0m     )\n\u001b[1;32m    668\u001b[0m \u001b[39mif\u001b[39;00m \u001b[39mnot\u001b[39;00m req\u001b[39m.\u001b[39mtext:\n\u001b[1;32m    669\u001b[0m     \u001b[39mcontinue\u001b[39;00m\n",
      "\u001b[0;31mConnectionError\u001b[0m: ERR#0015: error 403, try again later."
     ]
    }
   ],
   "source": [
    "investpy.get_stock_historical_data(stock='AAPL',\n",
    "                                        country='United States',\n",
    "                                        from_date='01/01/2010',\n",
    "                                        to_date='01/01/2020')"
   ]
  },
  {
   "cell_type": "markdown",
   "metadata": {},
   "source": [
    "# Investiny\n",
    "[Github](https://github.com/alvarobartt/investiny)"
   ]
  },
  {
   "cell_type": "code",
   "execution_count": 2,
   "metadata": {},
   "outputs": [
    {
     "ename": "ConnectionError",
     "evalue": "Request to Investing.com API failed with error code: 403.",
     "output_type": "error",
     "traceback": [
      "\u001b[0;31m---------------------------------------------------------------------------\u001b[0m",
      "\u001b[0;31mConnectionError\u001b[0m                           Traceback (most recent call last)",
      "Cell \u001b[0;32mIn [2], line 1\u001b[0m\n\u001b[0;32m----> 1\u001b[0m data \u001b[39m=\u001b[39m investiny\u001b[39m.\u001b[39;49mhistorical_data(investing_id\u001b[39m=\u001b[39;49m\u001b[39m6408\u001b[39;49m, from_date\u001b[39m=\u001b[39;49m\u001b[39m\"\u001b[39;49m\u001b[39m09/01/2022\u001b[39;49m\u001b[39m\"\u001b[39;49m, to_date\u001b[39m=\u001b[39;49m\u001b[39m\"\u001b[39;49m\u001b[39m10/01/2022\u001b[39;49m\u001b[39m\"\u001b[39;49m) \u001b[39m# Returns AAPL historical data as JSON (without date)\u001b[39;00m\n",
      "File \u001b[0;32m~/.local/lib/python3.11/site-packages/investiny/historical.py:48\u001b[0m, in \u001b[0;36mhistorical_data\u001b[0;34m(investing_id, from_date, to_date, interval)\u001b[0m\n\u001b[1;32m     35\u001b[0m result: Dict[\u001b[39mstr\u001b[39m, Any] \u001b[39m=\u001b[39m {\n\u001b[1;32m     36\u001b[0m     \u001b[39m\"\u001b[39m\u001b[39mdate\u001b[39m\u001b[39m\"\u001b[39m: [],\n\u001b[1;32m     37\u001b[0m     \u001b[39m\"\u001b[39m\u001b[39mopen\u001b[39m\u001b[39m\"\u001b[39m: [],\n\u001b[0;32m   (...)\u001b[0m\n\u001b[1;32m     41\u001b[0m     \u001b[39m\"\u001b[39m\u001b[39mvolume\u001b[39m\u001b[39m\"\u001b[39m: [],\n\u001b[1;32m     42\u001b[0m }\n\u001b[1;32m     44\u001b[0m datetime_format \u001b[39m=\u001b[39m (\n\u001b[1;32m     45\u001b[0m     Config\u001b[39m.\u001b[39mtime_format \u001b[39mif\u001b[39;00m interval \u001b[39mnot\u001b[39;00m \u001b[39min\u001b[39;00m [\u001b[39m\"\u001b[39m\u001b[39mD\u001b[39m\u001b[39m\"\u001b[39m, \u001b[39m\"\u001b[39m\u001b[39mW\u001b[39m\u001b[39m\"\u001b[39m, \u001b[39m\"\u001b[39m\u001b[39mM\u001b[39m\u001b[39m\"\u001b[39m] \u001b[39melse\u001b[39;00m Config\u001b[39m.\u001b[39mdate_format\n\u001b[1;32m     46\u001b[0m )\n\u001b[0;32m---> 48\u001b[0m info \u001b[39m=\u001b[39m investing_info(investing_id\u001b[39m=\u001b[39;49minvesting_id)\n\u001b[1;32m     50\u001b[0m has_volume \u001b[39m=\u001b[39m \u001b[39mnot\u001b[39;00m info[\u001b[39m\"\u001b[39m\u001b[39mhas_no_volume\u001b[39m\u001b[39m\"\u001b[39m]\n\u001b[1;32m     51\u001b[0m days_shift \u001b[39m=\u001b[39m \u001b[39m1\u001b[39m \u001b[39mif\u001b[39;00m info[\u001b[39m\"\u001b[39m\u001b[39mtype\u001b[39m\u001b[39m\"\u001b[39m] \u001b[39min\u001b[39;00m [\u001b[39m\"\u001b[39m\u001b[39mYield\u001b[39m\u001b[39m\"\u001b[39m] \u001b[39melse\u001b[39;00m \u001b[39m0\u001b[39m\n",
      "File \u001b[0;32m~/.local/lib/python3.11/site-packages/investiny/info.py:41\u001b[0m, in \u001b[0;36minvesting_info\u001b[0;34m(investing_id)\u001b[0m\n\u001b[1;32m     32\u001b[0m \u001b[39mdef\u001b[39;00m \u001b[39minvesting_info\u001b[39m(investing_id: \u001b[39mint\u001b[39m) \u001b[39m-\u001b[39m\u001b[39m>\u001b[39m Dict[\u001b[39mstr\u001b[39m, Any]:\n\u001b[1;32m     33\u001b[0m     \u001b[39m\"\"\"Get asset's information used internally by Investing.com.\u001b[39;00m\n\u001b[1;32m     34\u001b[0m \n\u001b[1;32m     35\u001b[0m \u001b[39m    Args:\u001b[39;00m\n\u001b[0;32m   (...)\u001b[0m\n\u001b[1;32m     39\u001b[0m \u001b[39m        A dictionary with the asset's information used internally by Investing.com.\u001b[39;00m\n\u001b[1;32m     40\u001b[0m \u001b[39m    \"\"\"\u001b[39;00m\n\u001b[0;32m---> 41\u001b[0m     \u001b[39mreturn\u001b[39;00m request_to_investing(  \u001b[39m# type: ignore\u001b[39;49;00m\n\u001b[1;32m     42\u001b[0m         endpoint\u001b[39m=\u001b[39;49m\u001b[39m\"\u001b[39;49m\u001b[39msymbols\u001b[39;49m\u001b[39m\"\u001b[39;49m,\n\u001b[1;32m     43\u001b[0m         params\u001b[39m=\u001b[39;49m{\u001b[39m\"\u001b[39;49m\u001b[39msymbol\u001b[39;49m\u001b[39m\"\u001b[39;49m: investing_id},\n\u001b[1;32m     44\u001b[0m     )\n",
      "File \u001b[0;32m~/.local/lib/python3.11/site-packages/investiny/utils.py:36\u001b[0m, in \u001b[0;36mrequest_to_investing\u001b[0;34m(endpoint, params)\u001b[0m\n\u001b[1;32m     34\u001b[0m r \u001b[39m=\u001b[39m httpx\u001b[39m.\u001b[39mget(url, params\u001b[39m=\u001b[39mparams, headers\u001b[39m=\u001b[39mheaders)\n\u001b[1;32m     35\u001b[0m \u001b[39mif\u001b[39;00m r\u001b[39m.\u001b[39mstatus_code \u001b[39m!=\u001b[39m \u001b[39m200\u001b[39m:\n\u001b[0;32m---> 36\u001b[0m     \u001b[39mraise\u001b[39;00m \u001b[39mConnectionError\u001b[39;00m(\n\u001b[1;32m     37\u001b[0m         \u001b[39mf\u001b[39m\u001b[39m\"\u001b[39m\u001b[39mRequest to Investing.com API failed with error code: \u001b[39m\u001b[39m{\u001b[39;00mr\u001b[39m.\u001b[39mstatus_code\u001b[39m}\u001b[39;00m\u001b[39m.\u001b[39m\u001b[39m\"\u001b[39m\n\u001b[1;32m     38\u001b[0m     )\n\u001b[1;32m     39\u001b[0m d \u001b[39m=\u001b[39m r\u001b[39m.\u001b[39mjson()\n\u001b[1;32m     41\u001b[0m \u001b[39mif\u001b[39;00m endpoint \u001b[39min\u001b[39;00m [\u001b[39m\"\u001b[39m\u001b[39mhistory\u001b[39m\u001b[39m\"\u001b[39m, \u001b[39m\"\u001b[39m\u001b[39mquotes\u001b[39m\u001b[39m\"\u001b[39m] \u001b[39mand\u001b[39;00m d[\u001b[39m\"\u001b[39m\u001b[39ms\u001b[39m\u001b[39m\"\u001b[39m] \u001b[39m!=\u001b[39m \u001b[39m\"\u001b[39m\u001b[39mok\u001b[39m\u001b[39m\"\u001b[39m:\n",
      "\u001b[0;31mConnectionError\u001b[0m: Request to Investing.com API failed with error code: 403."
     ]
    }
   ],
   "source": [
    "data = investiny.historical_data(investing_id=6408, from_date=\"09/01/2022\", to_date=\"10/01/2022\") # Returns AAPL historical data as JSON (without date)"
   ]
  },
  {
   "cell_type": "code",
   "execution_count": 4,
   "metadata": {},
   "outputs": [
    {
     "ename": "ConnectionError",
     "evalue": "Request to Investing.com API failed with error code: 403.",
     "output_type": "error",
     "traceback": [
      "\u001b[0;31m---------------------------------------------------------------------------\u001b[0m",
      "\u001b[0;31mConnectionError\u001b[0m                           Traceback (most recent call last)",
      "Cell \u001b[0;32mIn [4], line 1\u001b[0m\n\u001b[0;32m----> 1\u001b[0m investiny\u001b[39m.\u001b[39;49msearch_assets(query\u001b[39m=\u001b[39;49m\u001b[39m\"\u001b[39;49m\u001b[39mAAPL\u001b[39;49m\u001b[39m\"\u001b[39;49m, limit\u001b[39m=\u001b[39;49m\u001b[39m1\u001b[39;49m, \u001b[39mtype\u001b[39;49m\u001b[39m=\u001b[39;49m\u001b[39m\"\u001b[39;49m\u001b[39mStock\u001b[39;49m\u001b[39m\"\u001b[39;49m, exchange\u001b[39m=\u001b[39;49m\u001b[39m\"\u001b[39;49m\u001b[39mNASDAQ\u001b[39;49m\u001b[39m\"\u001b[39;49m) \u001b[39m# Returns a list with all the results found in Investing.com\u001b[39;00m\n",
      "File \u001b[0;32m~/.local/lib/python3.11/site-packages/investiny/search.py:42\u001b[0m, in \u001b[0;36msearch_assets\u001b[0;34m(query, limit, type, exchange)\u001b[0m\n\u001b[1;32m     25\u001b[0m \u001b[39m\"\"\"Search any available asset at Investing.com.\u001b[39;00m\n\u001b[1;32m     26\u001b[0m \n\u001b[1;32m     27\u001b[0m \u001b[39mArgs:\u001b[39;00m\n\u001b[0;32m   (...)\u001b[0m\n\u001b[1;32m     34\u001b[0m \u001b[39m    A list of dictionaries with the search results from Investing.com.\u001b[39;00m\n\u001b[1;32m     35\u001b[0m \u001b[39m\"\"\"\u001b[39;00m\n\u001b[1;32m     36\u001b[0m params \u001b[39m=\u001b[39m {\n\u001b[1;32m     37\u001b[0m     \u001b[39m\"\u001b[39m\u001b[39mquery\u001b[39m\u001b[39m\"\u001b[39m: query,\n\u001b[1;32m     38\u001b[0m     \u001b[39m\"\u001b[39m\u001b[39mlimit\u001b[39m\u001b[39m\"\u001b[39m: limit,\n\u001b[1;32m     39\u001b[0m     \u001b[39m\"\u001b[39m\u001b[39mtype\u001b[39m\u001b[39m\"\u001b[39m: \u001b[39mtype\u001b[39m \u001b[39mif\u001b[39;00m \u001b[39mtype\u001b[39m \u001b[39melse\u001b[39;00m \u001b[39m\"\u001b[39m\u001b[39m\"\u001b[39m,\n\u001b[1;32m     40\u001b[0m     \u001b[39m\"\u001b[39m\u001b[39mexchange\u001b[39m\u001b[39m\"\u001b[39m: exchange \u001b[39mif\u001b[39;00m exchange \u001b[39melse\u001b[39;00m \u001b[39m\"\u001b[39m\u001b[39m\"\u001b[39m,\n\u001b[1;32m     41\u001b[0m }\n\u001b[0;32m---> 42\u001b[0m \u001b[39mreturn\u001b[39;00m request_to_investing(endpoint\u001b[39m=\u001b[39;49m\u001b[39m\"\u001b[39;49m\u001b[39msearch\u001b[39;49m\u001b[39m\"\u001b[39;49m, params\u001b[39m=\u001b[39;49mparams)\n",
      "File \u001b[0;32m~/.local/lib/python3.11/site-packages/investiny/utils.py:36\u001b[0m, in \u001b[0;36mrequest_to_investing\u001b[0;34m(endpoint, params)\u001b[0m\n\u001b[1;32m     34\u001b[0m r \u001b[39m=\u001b[39m httpx\u001b[39m.\u001b[39mget(url, params\u001b[39m=\u001b[39mparams, headers\u001b[39m=\u001b[39mheaders)\n\u001b[1;32m     35\u001b[0m \u001b[39mif\u001b[39;00m r\u001b[39m.\u001b[39mstatus_code \u001b[39m!=\u001b[39m \u001b[39m200\u001b[39m:\n\u001b[0;32m---> 36\u001b[0m     \u001b[39mraise\u001b[39;00m \u001b[39mConnectionError\u001b[39;00m(\n\u001b[1;32m     37\u001b[0m         \u001b[39mf\u001b[39m\u001b[39m\"\u001b[39m\u001b[39mRequest to Investing.com API failed with error code: \u001b[39m\u001b[39m{\u001b[39;00mr\u001b[39m.\u001b[39mstatus_code\u001b[39m}\u001b[39;00m\u001b[39m.\u001b[39m\u001b[39m\"\u001b[39m\n\u001b[1;32m     38\u001b[0m     )\n\u001b[1;32m     39\u001b[0m d \u001b[39m=\u001b[39m r\u001b[39m.\u001b[39mjson()\n\u001b[1;32m     41\u001b[0m \u001b[39mif\u001b[39;00m endpoint \u001b[39min\u001b[39;00m [\u001b[39m\"\u001b[39m\u001b[39mhistory\u001b[39m\u001b[39m\"\u001b[39m, \u001b[39m\"\u001b[39m\u001b[39mquotes\u001b[39m\u001b[39m\"\u001b[39m] \u001b[39mand\u001b[39;00m d[\u001b[39m\"\u001b[39m\u001b[39ms\u001b[39m\u001b[39m\"\u001b[39m] \u001b[39m!=\u001b[39m \u001b[39m\"\u001b[39m\u001b[39mok\u001b[39m\u001b[39m\"\u001b[39m:\n",
      "\u001b[0;31mConnectionError\u001b[0m: Request to Investing.com API failed with error code: 403."
     ]
    }
   ],
   "source": [
    "investiny.search_assets(query=\"AAPL\", limit=1, type=\"Stock\", exchange=\"NASDAQ\") # Returns a list with all the results found in Investing.com"
   ]
  },
  {
   "cell_type": "code",
   "execution_count": 5,
   "metadata": {},
   "outputs": [
    {
     "ename": "ConnectionError",
     "evalue": "Request to Investing.com API failed with error code: 403.",
     "output_type": "error",
     "traceback": [
      "\u001b[0;31m---------------------------------------------------------------------------\u001b[0m",
      "\u001b[0;31mConnectionError\u001b[0m                           Traceback (most recent call last)",
      "Cell \u001b[0;32mIn [5], line 3\u001b[0m\n\u001b[1;32m      1\u001b[0m \u001b[39mfrom\u001b[39;00m \u001b[39minvestiny\u001b[39;00m \u001b[39mimport\u001b[39;00m historical_data, search_assets\n\u001b[0;32m----> 3\u001b[0m search_results \u001b[39m=\u001b[39m search_assets(query\u001b[39m=\u001b[39;49m\u001b[39m\"\u001b[39;49m\u001b[39mAAPL\u001b[39;49m\u001b[39m\"\u001b[39;49m, limit\u001b[39m=\u001b[39;49m\u001b[39m1\u001b[39;49m, \u001b[39mtype\u001b[39;49m\u001b[39m=\u001b[39;49m\u001b[39m\"\u001b[39;49m\u001b[39mStock\u001b[39;49m\u001b[39m\"\u001b[39;49m, exchange\u001b[39m=\u001b[39;49m\u001b[39m\"\u001b[39;49m\u001b[39mNASDAQ\u001b[39;49m\u001b[39m\"\u001b[39;49m)\n\u001b[1;32m      4\u001b[0m investing_id \u001b[39m=\u001b[39m \u001b[39mint\u001b[39m(search_results[\u001b[39m0\u001b[39m][\u001b[39m\"\u001b[39m\u001b[39mticker\u001b[39m\u001b[39m\"\u001b[39m]) \u001b[39m# Assuming the first entry is the desired one (top result in Investing.com)\u001b[39;00m\n\u001b[1;32m      6\u001b[0m historical_data(investing_id\u001b[39m=\u001b[39minvesting_id, from_date\u001b[39m=\u001b[39m\u001b[39m\"\u001b[39m\u001b[39m09/01/2022\u001b[39m\u001b[39m\"\u001b[39m, to_date\u001b[39m=\u001b[39m\u001b[39m\"\u001b[39m\u001b[39m10/01/2022\u001b[39m\u001b[39m\"\u001b[39m)\n",
      "File \u001b[0;32m~/.local/lib/python3.11/site-packages/investiny/search.py:42\u001b[0m, in \u001b[0;36msearch_assets\u001b[0;34m(query, limit, type, exchange)\u001b[0m\n\u001b[1;32m     25\u001b[0m \u001b[39m\"\"\"Search any available asset at Investing.com.\u001b[39;00m\n\u001b[1;32m     26\u001b[0m \n\u001b[1;32m     27\u001b[0m \u001b[39mArgs:\u001b[39;00m\n\u001b[0;32m   (...)\u001b[0m\n\u001b[1;32m     34\u001b[0m \u001b[39m    A list of dictionaries with the search results from Investing.com.\u001b[39;00m\n\u001b[1;32m     35\u001b[0m \u001b[39m\"\"\"\u001b[39;00m\n\u001b[1;32m     36\u001b[0m params \u001b[39m=\u001b[39m {\n\u001b[1;32m     37\u001b[0m     \u001b[39m\"\u001b[39m\u001b[39mquery\u001b[39m\u001b[39m\"\u001b[39m: query,\n\u001b[1;32m     38\u001b[0m     \u001b[39m\"\u001b[39m\u001b[39mlimit\u001b[39m\u001b[39m\"\u001b[39m: limit,\n\u001b[1;32m     39\u001b[0m     \u001b[39m\"\u001b[39m\u001b[39mtype\u001b[39m\u001b[39m\"\u001b[39m: \u001b[39mtype\u001b[39m \u001b[39mif\u001b[39;00m \u001b[39mtype\u001b[39m \u001b[39melse\u001b[39;00m \u001b[39m\"\u001b[39m\u001b[39m\"\u001b[39m,\n\u001b[1;32m     40\u001b[0m     \u001b[39m\"\u001b[39m\u001b[39mexchange\u001b[39m\u001b[39m\"\u001b[39m: exchange \u001b[39mif\u001b[39;00m exchange \u001b[39melse\u001b[39;00m \u001b[39m\"\u001b[39m\u001b[39m\"\u001b[39m,\n\u001b[1;32m     41\u001b[0m }\n\u001b[0;32m---> 42\u001b[0m \u001b[39mreturn\u001b[39;00m request_to_investing(endpoint\u001b[39m=\u001b[39;49m\u001b[39m\"\u001b[39;49m\u001b[39msearch\u001b[39;49m\u001b[39m\"\u001b[39;49m, params\u001b[39m=\u001b[39;49mparams)\n",
      "File \u001b[0;32m~/.local/lib/python3.11/site-packages/investiny/utils.py:36\u001b[0m, in \u001b[0;36mrequest_to_investing\u001b[0;34m(endpoint, params)\u001b[0m\n\u001b[1;32m     34\u001b[0m r \u001b[39m=\u001b[39m httpx\u001b[39m.\u001b[39mget(url, params\u001b[39m=\u001b[39mparams, headers\u001b[39m=\u001b[39mheaders)\n\u001b[1;32m     35\u001b[0m \u001b[39mif\u001b[39;00m r\u001b[39m.\u001b[39mstatus_code \u001b[39m!=\u001b[39m \u001b[39m200\u001b[39m:\n\u001b[0;32m---> 36\u001b[0m     \u001b[39mraise\u001b[39;00m \u001b[39mConnectionError\u001b[39;00m(\n\u001b[1;32m     37\u001b[0m         \u001b[39mf\u001b[39m\u001b[39m\"\u001b[39m\u001b[39mRequest to Investing.com API failed with error code: \u001b[39m\u001b[39m{\u001b[39;00mr\u001b[39m.\u001b[39mstatus_code\u001b[39m}\u001b[39;00m\u001b[39m.\u001b[39m\u001b[39m\"\u001b[39m\n\u001b[1;32m     38\u001b[0m     )\n\u001b[1;32m     39\u001b[0m d \u001b[39m=\u001b[39m r\u001b[39m.\u001b[39mjson()\n\u001b[1;32m     41\u001b[0m \u001b[39mif\u001b[39;00m endpoint \u001b[39min\u001b[39;00m [\u001b[39m\"\u001b[39m\u001b[39mhistory\u001b[39m\u001b[39m\"\u001b[39m, \u001b[39m\"\u001b[39m\u001b[39mquotes\u001b[39m\u001b[39m\"\u001b[39m] \u001b[39mand\u001b[39;00m d[\u001b[39m\"\u001b[39m\u001b[39ms\u001b[39m\u001b[39m\"\u001b[39m] \u001b[39m!=\u001b[39m \u001b[39m\"\u001b[39m\u001b[39mok\u001b[39m\u001b[39m\"\u001b[39m:\n",
      "\u001b[0;31mConnectionError\u001b[0m: Request to Investing.com API failed with error code: 403."
     ]
    }
   ],
   "source": [
    "from investiny import historical_data, search_assets\n",
    "\n",
    "search_results = search_assets(query=\"AAPL\", limit=1, type=\"Stock\", exchange=\"NASDAQ\")\n",
    "investing_id = int(search_results[0][\"ticker\"]) # Assuming the first entry is the desired one (top result in Investing.com)\n",
    "\n",
    "historical_data(investing_id=investing_id, from_date=\"09/01/2022\", to_date=\"10/01/2022\")"
   ]
  }
 ],
 "metadata": {
  "kernelspec": {
   "display_name": "Python 3.11.0 64-bit",
   "language": "python",
   "name": "python3"
  },
  "language_info": {
   "codemirror_mode": {
    "name": "ipython",
    "version": 3
   },
   "file_extension": ".py",
   "mimetype": "text/x-python",
   "name": "python",
   "nbconvert_exporter": "python",
   "pygments_lexer": "ipython3",
   "version": "3.11.0"
  },
  "orig_nbformat": 4,
  "vscode": {
   "interpreter": {
    "hash": "949777d72b0d2535278d3dc13498b2535136f6dfe0678499012e853ee9abcab1"
   }
  }
 },
 "nbformat": 4,
 "nbformat_minor": 2
}
